{
 "cells": [
  {
   "cell_type": "code",
   "execution_count": 2,
   "metadata": {},
   "outputs": [],
   "source": [
    "import pandas as pd\n",
    "import numpy as np\n",
    "import matplotlib.pyplot as plt"
   ]
  },
  {
   "cell_type": "code",
   "execution_count": 65,
   "metadata": {},
   "outputs": [
    {
     "data": {
      "text/html": [
       "<div>\n",
       "<style scoped>\n",
       "    .dataframe tbody tr th:only-of-type {\n",
       "        vertical-align: middle;\n",
       "    }\n",
       "\n",
       "    .dataframe tbody tr th {\n",
       "        vertical-align: top;\n",
       "    }\n",
       "\n",
       "    .dataframe thead th {\n",
       "        text-align: right;\n",
       "    }\n",
       "</style>\n",
       "<table border=\"1\" class=\"dataframe\">\n",
       "  <thead>\n",
       "    <tr style=\"text-align: right;\">\n",
       "      <th></th>\n",
       "      <th>ETF Index</th>\n",
       "      <th>Growth_Rates</th>\n",
       "      <th>Total_Assets</th>\n",
       "      <th>Target</th>\n",
       "      <th>Parent_firm</th>\n",
       "    </tr>\n",
       "  </thead>\n",
       "  <tbody>\n",
       "    <tr>\n",
       "      <th>0</th>\n",
       "      <td>USXF</td>\n",
       "      <td>0.18</td>\n",
       "      <td>565.70</td>\n",
       "      <td>0</td>\n",
       "      <td>iShares</td>\n",
       "    </tr>\n",
       "    <tr>\n",
       "      <th>1</th>\n",
       "      <td>VUG</td>\n",
       "      <td>0.19</td>\n",
       "      <td>84810.00</td>\n",
       "      <td>1</td>\n",
       "      <td>Vanguard</td>\n",
       "    </tr>\n",
       "    <tr>\n",
       "      <th>2</th>\n",
       "      <td>MGK</td>\n",
       "      <td>0.21</td>\n",
       "      <td>13730.00</td>\n",
       "      <td>1</td>\n",
       "      <td>Vanguard</td>\n",
       "    </tr>\n",
       "    <tr>\n",
       "      <th>3</th>\n",
       "      <td>IUSG</td>\n",
       "      <td>0.24</td>\n",
       "      <td>13130.00</td>\n",
       "      <td>0</td>\n",
       "      <td>iShares</td>\n",
       "    </tr>\n",
       "    <tr>\n",
       "      <th>4</th>\n",
       "      <td>VOOG</td>\n",
       "      <td>0.24</td>\n",
       "      <td>7600.00</td>\n",
       "      <td>1</td>\n",
       "      <td>Vanguard</td>\n",
       "    </tr>\n",
       "    <tr>\n",
       "      <th>5</th>\n",
       "      <td>FDMO</td>\n",
       "      <td>0.15</td>\n",
       "      <td>124.95</td>\n",
       "      <td>2</td>\n",
       "      <td>Fidelity</td>\n",
       "    </tr>\n",
       "    <tr>\n",
       "      <th>6</th>\n",
       "      <td>VONG</td>\n",
       "      <td>0.20</td>\n",
       "      <td>7850.00</td>\n",
       "      <td>1</td>\n",
       "      <td>Vanguard</td>\n",
       "    </tr>\n",
       "    <tr>\n",
       "      <th>7</th>\n",
       "      <td>IWF</td>\n",
       "      <td>0.20</td>\n",
       "      <td>73940.00</td>\n",
       "      <td>0</td>\n",
       "      <td>iShares</td>\n",
       "    </tr>\n",
       "    <tr>\n",
       "      <th>8</th>\n",
       "      <td>IWY</td>\n",
       "      <td>0.25</td>\n",
       "      <td>4790.00</td>\n",
       "      <td>0</td>\n",
       "      <td>iShares</td>\n",
       "    </tr>\n",
       "    <tr>\n",
       "      <th>9</th>\n",
       "      <td>QQQ</td>\n",
       "      <td>0.20</td>\n",
       "      <td>203680.00</td>\n",
       "      <td>3</td>\n",
       "      <td>Invesco</td>\n",
       "    </tr>\n",
       "    <tr>\n",
       "      <th>10</th>\n",
       "      <td>RPG</td>\n",
       "      <td>0.17</td>\n",
       "      <td>3240.00</td>\n",
       "      <td>3</td>\n",
       "      <td>Invesco</td>\n",
       "    </tr>\n",
       "    <tr>\n",
       "      <th>11</th>\n",
       "      <td>SPGP</td>\n",
       "      <td>0.27</td>\n",
       "      <td>887.59</td>\n",
       "      <td>3</td>\n",
       "      <td>Invesco</td>\n",
       "    </tr>\n",
       "    <tr>\n",
       "      <th>12</th>\n",
       "      <td>IVW</td>\n",
       "      <td>0.24</td>\n",
       "      <td>3809.00</td>\n",
       "      <td>0</td>\n",
       "      <td>iShares</td>\n",
       "    </tr>\n",
       "    <tr>\n",
       "      <th>13</th>\n",
       "      <td>MTUM</td>\n",
       "      <td>0.04</td>\n",
       "      <td>1379.00</td>\n",
       "      <td>0</td>\n",
       "      <td>iShares</td>\n",
       "    </tr>\n",
       "    <tr>\n",
       "      <th>14</th>\n",
       "      <td>ONEQ</td>\n",
       "      <td>0.14</td>\n",
       "      <td>4880.00</td>\n",
       "      <td>2</td>\n",
       "      <td>Fidelity</td>\n",
       "    </tr>\n",
       "    <tr>\n",
       "      <th>15</th>\n",
       "      <td>PWB</td>\n",
       "      <td>0.09</td>\n",
       "      <td>773.05</td>\n",
       "      <td>3</td>\n",
       "      <td>Invesco</td>\n",
       "    </tr>\n",
       "    <tr>\n",
       "      <th>16</th>\n",
       "      <td>PDP</td>\n",
       "      <td>-0.04</td>\n",
       "      <td>1660.00</td>\n",
       "      <td>3</td>\n",
       "      <td>Invesco</td>\n",
       "    </tr>\n",
       "    <tr>\n",
       "      <th>17</th>\n",
       "      <td>ILCG</td>\n",
       "      <td>0.16</td>\n",
       "      <td>2090.00</td>\n",
       "      <td>0</td>\n",
       "      <td>iShares</td>\n",
       "    </tr>\n",
       "  </tbody>\n",
       "</table>\n",
       "</div>"
      ],
      "text/plain": [
       "   ETF Index  Growth_Rates  Total_Assets  Target Parent_firm\n",
       "0       USXF          0.18        565.70       0     iShares\n",
       "1        VUG          0.19      84810.00       1    Vanguard\n",
       "2        MGK          0.21      13730.00       1    Vanguard\n",
       "3       IUSG          0.24      13130.00       0     iShares\n",
       "4       VOOG          0.24       7600.00       1    Vanguard\n",
       "5       FDMO          0.15        124.95       2    Fidelity\n",
       "6       VONG          0.20       7850.00       1    Vanguard\n",
       "7        IWF          0.20      73940.00       0     iShares\n",
       "8        IWY          0.25       4790.00       0     iShares\n",
       "9        QQQ          0.20     203680.00       3     Invesco\n",
       "10       RPG          0.17       3240.00       3     Invesco\n",
       "11      SPGP          0.27        887.59       3     Invesco\n",
       "12       IVW          0.24       3809.00       0     iShares\n",
       "13      MTUM          0.04       1379.00       0     iShares\n",
       "14      ONEQ          0.14       4880.00       2    Fidelity\n",
       "15       PWB          0.09        773.05       3     Invesco\n",
       "16       PDP         -0.04       1660.00       3     Invesco\n",
       "17      ILCG          0.16       2090.00       0     iShares"
      ]
     },
     "execution_count": 65,
     "metadata": {},
     "output_type": "execute_result"
    }
   ],
   "source": [
    "#Construction of a Support Vector Machine\n",
    "\n",
    "\n",
    "df=pd.read_csv(\"ETF.csv\")\n",
    "df"
   ]
  },
  {
   "cell_type": "code",
   "execution_count": 70,
   "metadata": {},
   "outputs": [],
   "source": [
    "nd1=df3[df3.Target==0]\n",
    "nd2=df3[df3.Target==1]\n",
    "nd3=df3[df3.Target==2]\n",
    "nd4=df3[df3.Target==3]"
   ]
  },
  {
   "cell_type": "code",
   "execution_count": 87,
   "metadata": {},
   "outputs": [
    {
     "data": {
      "text/plain": [
       "<matplotlib.collections.PathCollection at 0x7fde352367f0>"
      ]
     },
     "execution_count": 87,
     "metadata": {},
     "output_type": "execute_result"
    },
    {
     "data": {
      "image/png": "[encoded data removed]",
      "text/plain": [
       "<Figure size 432x288 with 1 Axes>"
      ]
     },
     "metadata": {
      "needs_background": "light"
     },
     "output_type": "display_data"
    }
   ],
   "source": [
    "plt.xlabel('Growth_Rates')\n",
    "plt.ylabel('Total_Assets')\n",
    "plt.scatter(nd3['Growth_Rates'],nd3['Total_Assets'],color='blue',marker='+')\n",
    "plt.scatter(nd2['Growth_Rates'],nd2['Total_Assets'],color='red',marker='.')"
   ]
  },
  {
   "cell_type": "code",
   "execution_count": 89,
   "metadata": {},
   "outputs": [
    {
     "data": {
      "text/plain": [
       "<matplotlib.collections.PathCollection at 0x7fde353ba550>"
      ]
     },
     "execution_count": 89,
     "metadata": {},
     "output_type": "execute_result"
    },
    {
     "data": {
      "image/png": "[encoded data removed]",
      "text/plain": [
       "<Figure size 432x288 with 1 Axes>"
      ]
     },
     "metadata": {
      "needs_background": "light"
     },
     "output_type": "display_data"
    }
   ],
   "source": [
    "plt.xlabel('Growth_Rates')\n",
    "plt.ylabel('Total_Assets')\n",
    "plt.scatter(nd4['Growth_Rates'],nd4['Total_Assets'],color='blue',marker='+')\n",
    "plt.scatter(nd1['Growth_Rates'],nd1['Total_Assets'],color='red',marker='.')"
   ]
  },
  {
   "cell_type": "code",
   "execution_count": 90,
   "metadata": {},
   "outputs": [],
   "source": [
    "from sklearn.model_selection import train_test_split"
   ]
  },
  {
   "cell_type": "code",
   "execution_count": 93,
   "metadata": {},
   "outputs": [
    {
     "data": {
      "text/html": [
       "<div>\n",
       "<style scoped>\n",
       "    .dataframe tbody tr th:only-of-type {\n",
       "        vertical-align: middle;\n",
       "    }\n",
       "\n",
       "    .dataframe tbody tr th {\n",
       "        vertical-align: top;\n",
       "    }\n",
       "\n",
       "    .dataframe thead th {\n",
       "        text-align: right;\n",
       "    }\n",
       "</style>\n",
       "<table border=\"1\" class=\"dataframe\">\n",
       "  <thead>\n",
       "    <tr style=\"text-align: right;\">\n",
       "      <th></th>\n",
       "      <th>Growth_Rates</th>\n",
       "      <th>Total_Assets</th>\n",
       "    </tr>\n",
       "  </thead>\n",
       "  <tbody>\n",
       "    <tr>\n",
       "      <th>0</th>\n",
       "      <td>0.18</td>\n",
       "      <td>565.70</td>\n",
       "    </tr>\n",
       "    <tr>\n",
       "      <th>1</th>\n",
       "      <td>0.19</td>\n",
       "      <td>84810.00</td>\n",
       "    </tr>\n",
       "    <tr>\n",
       "      <th>2</th>\n",
       "      <td>0.21</td>\n",
       "      <td>13730.00</td>\n",
       "    </tr>\n",
       "    <tr>\n",
       "      <th>3</th>\n",
       "      <td>0.24</td>\n",
       "      <td>13130.00</td>\n",
       "    </tr>\n",
       "    <tr>\n",
       "      <th>4</th>\n",
       "      <td>0.24</td>\n",
       "      <td>7600.00</td>\n",
       "    </tr>\n",
       "    <tr>\n",
       "      <th>5</th>\n",
       "      <td>0.15</td>\n",
       "      <td>124.95</td>\n",
       "    </tr>\n",
       "    <tr>\n",
       "      <th>6</th>\n",
       "      <td>0.20</td>\n",
       "      <td>7850.00</td>\n",
       "    </tr>\n",
       "    <tr>\n",
       "      <th>7</th>\n",
       "      <td>0.20</td>\n",
       "      <td>73940.00</td>\n",
       "    </tr>\n",
       "    <tr>\n",
       "      <th>8</th>\n",
       "      <td>0.25</td>\n",
       "      <td>4790.00</td>\n",
       "    </tr>\n",
       "    <tr>\n",
       "      <th>9</th>\n",
       "      <td>0.20</td>\n",
       "      <td>203680.00</td>\n",
       "    </tr>\n",
       "    <tr>\n",
       "      <th>10</th>\n",
       "      <td>0.17</td>\n",
       "      <td>3240.00</td>\n",
       "    </tr>\n",
       "    <tr>\n",
       "      <th>11</th>\n",
       "      <td>0.27</td>\n",
       "      <td>887.59</td>\n",
       "    </tr>\n",
       "    <tr>\n",
       "      <th>12</th>\n",
       "      <td>0.24</td>\n",
       "      <td>3809.00</td>\n",
       "    </tr>\n",
       "    <tr>\n",
       "      <th>13</th>\n",
       "      <td>0.04</td>\n",
       "      <td>1379.00</td>\n",
       "    </tr>\n",
       "    <tr>\n",
       "      <th>14</th>\n",
       "      <td>0.14</td>\n",
       "      <td>4880.00</td>\n",
       "    </tr>\n",
       "    <tr>\n",
       "      <th>15</th>\n",
       "      <td>0.09</td>\n",
       "      <td>773.05</td>\n",
       "    </tr>\n",
       "    <tr>\n",
       "      <th>16</th>\n",
       "      <td>-0.04</td>\n",
       "      <td>1660.00</td>\n",
       "    </tr>\n",
       "    <tr>\n",
       "      <th>17</th>\n",
       "      <td>0.16</td>\n",
       "      <td>2090.00</td>\n",
       "    </tr>\n",
       "  </tbody>\n",
       "</table>\n",
       "</div>"
      ],
      "text/plain": [
       "    Growth_Rates  Total_Assets\n",
       "0           0.18        565.70\n",
       "1           0.19      84810.00\n",
       "2           0.21      13730.00\n",
       "3           0.24      13130.00\n",
       "4           0.24       7600.00\n",
       "5           0.15        124.95\n",
       "6           0.20       7850.00\n",
       "7           0.20      73940.00\n",
       "8           0.25       4790.00\n",
       "9           0.20     203680.00\n",
       "10          0.17       3240.00\n",
       "11          0.27        887.59\n",
       "12          0.24       3809.00\n",
       "13          0.04       1379.00\n",
       "14          0.14       4880.00\n",
       "15          0.09        773.05\n",
       "16         -0.04       1660.00\n",
       "17          0.16       2090.00"
      ]
     },
     "execution_count": 93,
     "metadata": {},
     "output_type": "execute_result"
    }
   ],
   "source": [
    "x = df.drop(['Target','Parent_firm','ETF Index'], axis='columns')\n",
    "x"
   ]
  },
  {
   "cell_type": "code",
   "execution_count": 110,
   "metadata": {},
   "outputs": [],
   "source": [
    "y=df.Target"
   ]
  },
  {
   "cell_type": "code",
   "execution_count": 136,
   "metadata": {},
   "outputs": [],
   "source": [
    "x_train,x_test,y_train,y_test=train_test_split(x,y,test_size=0.2)"
   ]
  },
  {
   "cell_type": "code",
   "execution_count": 203,
   "metadata": {},
   "outputs": [],
   "source": [
    "from sklearn.svm import SVC\n",
    "model=SVC(C=1,gamma=0.01)"
   ]
  },
  {
   "cell_type": "code",
   "execution_count": 206,
   "metadata": {},
   "outputs": [
    {
     "data": {
      "text/plain": [
       "SVC(C=1, gamma=0.01)"
      ]
     },
     "execution_count": 206,
     "metadata": {},
     "output_type": "execute_result"
    }
   ],
   "source": [
    "g=model.fit(x_train,y_train)\n",
    "g"
   ]
  },
  {
   "cell_type": "code",
   "execution_count": 207,
   "metadata": {},
   "outputs": [
    {
     "data": {
      "text/plain": [
       "1.0"
      ]
     },
     "execution_count": 207,
     "metadata": {},
     "output_type": "execute_result"
    }
   ],
   "source": [
    "model.score(x_train,y_train)"
   ]
  },
  {
   "cell_type": "code",
   "execution_count": 186,
   "metadata": {},
   "outputs": [],
   "source": [
    "#Disclaimer:Increase C and gamma values to lift accuracy as much as possible"
   ]
  }
 ],
 "metadata": {
  "kernelspec": {
   "display_name": "Python 3",
   "language": "python",
   "name": "python3"
  },
  "language_info": {
   "codemirror_mode": {
    "name": "ipython",
    "version": 3
   },
   "file_extension": ".py",
   "mimetype": "text/x-python",
   "name": "python",
   "nbconvert_exporter": "python",
   "pygments_lexer": "ipython3",
   "version": "3.8.8"
  }
 },
 "nbformat": 4,
 "nbformat_minor": 4
}
